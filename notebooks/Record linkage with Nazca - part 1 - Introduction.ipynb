{
 "metadata": {
  "name": "Record linkage with Nazca - part 1 - Introduction"
 },
 "nbformat": 3,
 "nbformat_minor": 0,
 "worksheets": [
  {
   "cells": [
    {
     "cell_type": "markdown",
     "metadata": {},
     "source": [
      "<h1>Record linkage with Nazca - part 1</h1>\n",
      "\n",
      "This IPython notebook show some features of the Python Nazca library :\n",
      "<ul>\n",
      "    <li> website : <a href=\"http://www.logilab.org/project/nazca\">http://www.logilab.org/project/nazca</a></li>\n",
      "    <li> source : <a href=\"http://hg.logilab.org/review/nazca\">http://hg.logilab.org/review/nazca</a></li>\n",
      "</ul>\n",
      "<ul>\n",
      "    <li> original notebook : <a href=\"http://hg.logilab.org/review/nazca/raw-file/cdc7992b78be/notebooks/Record%20linkage%20with%20Nazca%20-%20part%201%20-%20Introduction.ipynb\">here !</a></li>\n",
      "    <li> date: 2014-07-01</li>\n",
      "    <li> author: Vincent Michel  (<it>vincent.michel@logilab.fr</it>, \n",
      "                                  <it>vm.michel@gmail.com</it>) @HowIMetYourData</li>\n",
      "<ul>\n"
     ]
    },
    {
     "cell_type": "markdown",
     "metadata": {},
     "source": [
      "<h2>Introduction on Record Linkage</h2>"
     ]
    },
    {
     "cell_type": "code",
     "collapsed": false,
     "input": [
      "from IPython.display import HTML\n",
      "HTML('<iframe src=http://en.mobile.wikipedia.org/wiki/Record_linkage?useformat=mobile width=700 height=350></iframe>')"
     ],
     "language": "python",
     "metadata": {},
     "outputs": [
      {
       "html": [
        "<iframe src=http://en.mobile.wikipedia.org/wiki/Record_linkage?useformat=mobile width=700 height=350></iframe>"
       ],
       "output_type": "pyout",
       "prompt_number": 1,
       "text": [
        "<IPython.core.display.HTML at 0x7fb4bc036990>"
       ]
      }
     ],
     "prompt_number": 1
    },
    {
     "cell_type": "markdown",
     "metadata": {},
     "source": [
      "<h3>Conventions on datasets</h3>\n"
     ]
    },
    {
     "cell_type": "markdown",
     "metadata": {},
     "source": [
      "<h4>Record</h4>\n",
      "List of attributes of an entry/object.\n",
      "The first attribute is ALWAYS considered as the identifier (e.g. URI) of the record. We note $v$ the number of attributes in a record."
     ]
    },
    {
     "cell_type": "code",
     "collapsed": false,
     "input": [
      "('http://data.bnf.fr/11907966/victor_hugo/', 'Victor Hugo', 1802, 1885, u'Besan\u00e7on (Doubs)', u'Paris')"
     ],
     "language": "python",
     "metadata": {},
     "outputs": [
      {
       "output_type": "pyout",
       "prompt_number": 2,
       "text": [
        "('http://data.bnf.fr/11907966/victor_hugo/',\n",
        " 'Victor Hugo',\n",
        " 1802,\n",
        " 1885,\n",
        " u'Besan\\xe7on (Doubs)',\n",
        " u'Paris')"
       ]
      }
     ],
     "prompt_number": 2
    },
    {
     "cell_type": "markdown",
     "metadata": {},
     "source": [
      "<h4>Reference set / Refset</h4>\n",
      "Set of reference data with size $n \\times v$. We note $r_i$ the ith element of the reference set."
     ]
    },
    {
     "cell_type": "markdown",
     "metadata": {},
     "source": [
      "<h4>Target set / Targetset</h4>\n",
      "Set of target data, with size $m \\times v$. We note $t_j$ the jth element of the targset set.\n",
      "Note: If we do not ask the record linkage to be surjective, i.e. one record of the target set is only aligned to one record in the reference set, the notions of reference set and target set are commutable."
     ]
    },
    {
     "cell_type": "markdown",
     "metadata": {},
     "source": [
      "<h4>Comparison result / Pair</h4>\n",
      "A pair is the result of a comparison between a record of the refset and a record of the targetset. We note $p_{ij}$ the pair resulting from the comparison of $r_i$ and $t_j$."
     ]
    },
    {
     "cell_type": "markdown",
     "metadata": {},
     "source": [
      "<h3>Standard approach in Nazca</h3>\n",
      "\n",
      "The standard approach in Nazca is the following:\n",
      "<ol>\n",
      "    <li>definition of both reference and target sets</li>\n",
      "    <li>definition of some functions to compare different attribute</li>\n",
      "    <li>computation of the global distance by calculating a (possibly averaged) sum of all the distances</li>\n",
      "    <li>keep only the pairs that with a global distance below a given threshold</li>\n",
      "</ol>\n",
      "        \n"
     ]
    },
    {
     "cell_type": "markdown",
     "metadata": {},
     "source": [
      "<h3>Problematic and blocking</h3>\n",
      "\n",
      "The major issue in record linkage is the size of the sets to be linked.\n",
      "Lets assume a simple <a href=\"http://en.wikipedia.org/wiki/Levenshtein_distance\">Levenshtein distance </a>:\n"
     ]
    },
    {
     "cell_type": "code",
     "collapsed": false,
     "input": [
      "import timeit\n",
      "t = timeit.timeit('from nazca.utils.distances import levenshtein\\nlevenshtein(\"abcd\", \"abde\")', number=1000)\n",
      "print '%s (s)' % t\n"
     ],
     "language": "python",
     "metadata": {},
     "outputs": [
      {
       "output_type": "stream",
       "stream": "stdout",
       "text": [
        "0.0652930736542 (s)\n"
       ]
      }
     ],
     "prompt_number": 3
    },
    {
     "cell_type": "markdown",
     "metadata": {},
     "source": [
      "Lets now assume both sets of size $n=m=10^4$. Thus the total computation time for all the possible comparisons is:"
     ]
    },
    {
     "cell_type": "code",
     "collapsed": false,
     "input": [
      "total = t*10000*10000/1000.\n",
      "print '%s (s) = %s (h) = %s (d)' % (total, total/3600., total/(3600.*24.))"
     ],
     "language": "python",
     "metadata": {},
     "outputs": [
      {
       "output_type": "stream",
       "stream": "stdout",
       "text": [
        "6529.30736542 (s) = 1.81369649039 (h) = 0.0755706870997 (d)\n"
       ]
      }
     ],
     "prompt_number": 4
    },
    {
     "cell_type": "markdown",
     "metadata": {},
     "source": [
      "Blocking aims at dividing the global comparisons matrix in small subsets (kind of divide-and-conquer approach).\n",
      "This may be seen as a block diagonalisation of the comparisons matrix.\n",
      "The number of comparisons (may) dramatically decrease !"
     ]
    },
    {
     "cell_type": "markdown",
     "metadata": {},
     "source": [
      "<h2>Structure of the Nazca library</h2>"
     ]
    },
    {
     "cell_type": "markdown",
     "metadata": {},
     "source": [
      "<h3>IO - nazca.utils.dataio</h3>\n",
      "This module provides several helpers for input/ouput, and for creating datasets."
     ]
    },
    {
     "cell_type": "code",
     "collapsed": false,
     "input": [
      "import nazca.utils.dataio as nio"
     ],
     "language": "python",
     "metadata": {},
     "outputs": [],
     "prompt_number": 5
    },
    {
     "cell_type": "code",
     "collapsed": false,
     "input": [
      "refset = nio.sparqlquery('http://demo.cubicweb.org/sparql',\n",
      "                         '''PREFIX dbonto:<http://dbpedia.org/ontology/>\n",
      "                            SELECT ?p ?n ?c WHERE {?p a dbonto:PopulatedPlace.\n",
      "                                                   ?p dbonto:country dbpedia:France.\n",
      "                                                   ?p foaf:name ?n.\n",
      "                                                   ?p dbpprop:insee ?c}''',\n",
      "                         autocast_data=False)\n",
      "print refset[0]"
     ],
     "language": "python",
     "metadata": {},
     "outputs": [
      {
       "output_type": "stream",
       "stream": "stdout",
       "text": [
        "[u'http://dbpedia.org/resource/Ajaccio', u'Ajaccio', u'2']\n"
       ]
      }
     ],
     "prompt_number": 6
    },
    {
     "cell_type": "markdown",
     "metadata": {},
     "source": [
      "The `autocast_data` option may be use to automatically try to cast attributes to some specific types"
     ]
    },
    {
     "cell_type": "code",
     "collapsed": false,
     "input": [
      "refset = nio.sparqlquery('http://demo.cubicweb.org/sparql',\n",
      "                         '''PREFIX dbonto:<http://dbpedia.org/ontology/>\n",
      "                            SELECT ?p ?n ?c WHERE {?p a dbonto:PopulatedPlace.\n",
      "                                                   ?p dbonto:country dbpedia:France.\n",
      "                                                   ?p foaf:name ?n.\n",
      "                                                   ?p dbpprop:insee ?c}''')\n",
      "print refset[0]"
     ],
     "language": "python",
     "metadata": {},
     "outputs": [
      {
       "output_type": "stream",
       "stream": "stdout",
       "text": [
        "[u'http://dbpedia.org/resource/Ajaccio', u'Ajaccio', 2]\n"
       ]
      }
     ],
     "prompt_number": 7
    },
    {
     "cell_type": "code",
     "collapsed": false,
     "input": [
      "refset = nio.rqlquery('http://www.cubicweb.org', 'Any U, N WHERE X is Project, X name N, X cwuri U')\n",
      "print refset[0]"
     ],
     "language": "python",
     "metadata": {},
     "outputs": [
      {
       "output_type": "stream",
       "stream": "stdout",
       "text": [
        "[u'http://www.cubicweb.org/1579176', u'cubicweb-mobile']\n"
       ]
      }
     ],
     "prompt_number": 8
    },
    {
     "cell_type": "markdown",
     "metadata": {},
     "source": [
      "<h3>Distances - nazca.utils.distances</h3>\n",
      "This module provides several distance functions."
     ]
    },
    {
     "cell_type": "code",
     "collapsed": false,
     "input": [
      "import nazca.utils.distances as ndi"
     ],
     "language": "python",
     "metadata": {},
     "outputs": [],
     "prompt_number": 9
    },
    {
     "cell_type": "markdown",
     "metadata": {},
     "source": [
      "<h4>Exact match distance</h4>\n",
      "\n",
      "The simplest distance, defined as 0 if both values are equal, 1 elsewise."
     ]
    },
    {
     "cell_type": "code",
     "collapsed": false,
     "input": [
      "for sa, sb in (('abcd', 'abcd'), ('abcd', 'abce'), ((1, 2), (1, 2)), ((1, 2, 'abd'), (2, 1, 'abd'))):\n",
      "    print sa, sb, ndi.exact_match(sa, sb)"
     ],
     "language": "python",
     "metadata": {},
     "outputs": [
      {
       "output_type": "stream",
       "stream": "stdout",
       "text": [
        "abcd abcd 0\n",
        "abcd abce 1\n",
        "(1, 2) (1, 2) 0\n",
        "(1, 2, 'abd') (2, 1, 'abd') 1\n"
       ]
      }
     ],
     "prompt_number": 10
    },
    {
     "cell_type": "markdown",
     "metadata": {},
     "source": [
      "<h4><a href=\"http://en.wikipedia.org/wiki/Levenshtein_distance\">Levenshtein distance </a></h4>\n",
      "\n",
      "The Levenshtein distance is defined as the minimal cost to transform string a into string b, where 3 operators are allowed:\n",
      "<ul>\n",
      "    <li>Replace one character of string a into a character of string b</li>\n",
      "    <li>Add one character of string b into string a</li>\n",
      "    <li>Remove one character of string b</li>"
     ]
    },
    {
     "cell_type": "code",
     "collapsed": false,
     "input": [
      "for sa, sb in (('abcd', 'abcd'), ('abcd', 'abce'), ('abcd', 'abc'), ('abc', 'abcd'), ('abcd', 'efgh')):\n",
      "    print sa, sb, ndi.levenshtein(sa, sb)"
     ],
     "language": "python",
     "metadata": {},
     "outputs": [
      {
       "output_type": "stream",
       "stream": "stdout",
       "text": [
        "abcd abcd 0\n",
        "abcd abce 1\n",
        "abcd abc 1\n",
        "abc abcd 1\n",
        "abcd efgh 4\n"
       ]
      }
     ],
     "prompt_number": 11
    },
    {
     "cell_type": "markdown",
     "metadata": {},
     "source": [
      "<h4><a href=\"http://en.wikipedia.org/wiki/Soundex\">Soundex distance </a></h4>\n",
      "\n",
      "The Soundex distance is return 1 if the soundex codes of the two strings are different, and 0 otherwise:"
     ]
    },
    {
     "cell_type": "code",
     "collapsed": false,
     "input": [
      "for sa, sb in (('victor', 'victor'), ('victor', 'viktor'), ('victor', 'victo'), ('victor', 'viktaur')):\n",
      "    print sa, sb, ndi.soundex(sa, sb)"
     ],
     "language": "python",
     "metadata": {},
     "outputs": [
      {
       "output_type": "stream",
       "stream": "stdout",
       "text": [
        "victor victor 0\n",
        "victor viktor 0\n",
        "victor victo 1\n",
        "victor viktaur 0\n"
       ]
      }
     ],
     "prompt_number": 12
    },
    {
     "cell_type": "markdown",
     "metadata": {},
     "source": [
      "<h4><a href=\"http://en.wikipedia.org/wiki/Jaccard_index\">Jaccard distance </a></h4>\n",
      "\n",
      "The Jaccard distance between two strings is defined as one minus Jaccard distance $J$ between the two sets of tokens built from the strings, with:\n",
      "$$\n",
      "J(A, B) = (A \\cap B)/(A \\cup B)\n",
      "$$\n",
      "Thus:\n",
      "$$\n",
      "d(string A, string B) = 1 - J(tokens A, tokens B)\n",
      "$$"
     ]
    },
    {
     "cell_type": "code",
     "collapsed": false,
     "input": [
      "for sa, sb in (('victor hugo', 'victor hugo'), ('victor hugo', 'victor'),\n",
      "               ('victor hugo', 'victor hugo Besancon 1802 Paris 1885')):\n",
      "    print sa, sb, ndi.jaccard(sa, sb)"
     ],
     "language": "python",
     "metadata": {},
     "outputs": [
      {
       "output_type": "stream",
       "stream": "stdout",
       "text": [
        "victor hugo victor hugo 0.0\n",
        "victor hugo victor 0.5\n",
        "victor hugo victor hugo Besancon 1802 Paris 1885 0.666666666667\n"
       ]
      }
     ],
     "prompt_number": 13
    },
    {
     "cell_type": "markdown",
     "metadata": {},
     "source": [
      "<h4><a href=\"https://docs.python.org/2/library/difflib.html\">Difflib distance </a></h4>\n",
      "\n",
      "Distance based on the `SequenceMatcher` class of the `difflib` modulen, which is based on the `gestalt pattern matching` algorithm. The Nazca distance return `1 - difflib.SequenceMatcher(None, stra, strb).ratio()`."
     ]
    },
    {
     "cell_type": "code",
     "collapsed": false,
     "input": [
      "for sa, sb in (('abcd', 'abcd'), ('abcd', 'abce'), ('abcd', 'abc'), ('abc', 'abcd'), ('abcd', 'efgh'),,\n",
      "               ('victor', 'victor'), ('victor', 'viktor'), ('victor', 'victo'), ('victor', 'viktaur')):\n",
      "    print sa, sb, ndi.difflib_match(sa, sb)"
     ],
     "language": "python",
     "metadata": {},
     "outputs": [
      {
       "ename": "SyntaxError",
       "evalue": "invalid syntax (<ipython-input-14-f01d54be2f60>, line 1)",
       "output_type": "pyerr",
       "traceback": [
        "\u001b[0;36m  File \u001b[0;32m\"<ipython-input-14-f01d54be2f60>\"\u001b[0;36m, line \u001b[0;32m1\u001b[0m\n\u001b[0;31m    for sa, sb in (('abcd', 'abcd'), ('abcd', 'abce'), ('abcd', 'abc'), ('abc', 'abcd'), ('abcd', 'efgh'),,\u001b[0m\n\u001b[0m                                                                                                          ^\u001b[0m\n\u001b[0;31mSyntaxError\u001b[0m\u001b[0;31m:\u001b[0m invalid syntax\n"
       ]
      }
     ],
     "prompt_number": 14
    },
    {
     "cell_type": "markdown",
     "metadata": {},
     "source": [
      "<h4><a href=\"https://labix.org/python-dateutil\">Temporal distance </a></h4>\n",
      "\n",
      "The Temporal distance is based on the `dateutil` Python module and is used to compute the distance between two strings representing dates."
     ]
    },
    {
     "cell_type": "code",
     "collapsed": false,
     "input": [
      "for d1, d2 in (('14 aout 1991', '14/08/1991'), ('14 aout 1991', '08/14/1991'), ('14 aout 1991', '08/15/1992'),\n",
      "               ('1er mai 2012', '01/05/2012'), ('Jean est n\u00e9 le 1er octobre 1958', 'Le 01-10-1958, Jean est n\u00e9')):\n",
      "    print d1, d2, ndi.temporal(d1, d2)"
     ],
     "language": "python",
     "metadata": {},
     "outputs": [
      {
       "output_type": "stream",
       "stream": "stdout",
       "text": [
        "14 aout 1991 14/08/1991 0\n",
        "14 aout 1991 08/14/1991 0\n",
        "14 aout 1991 08/15/1992 367\n",
        "1er mai 2012 01/05/2012 0\n",
        "Jean est n\u00e9 le 1er octobre 1958 Le 01-10-1958, Jean est n\u00e9 0\n"
       ]
      }
     ],
     "prompt_number": 15
    },
    {
     "cell_type": "markdown",
     "metadata": {},
     "source": [
      "Different granularies may be used:"
     ]
    },
    {
     "cell_type": "code",
     "collapsed": false,
     "input": [
      "print ndi.temporal('13 mars', '13 mai', 'months')"
     ],
     "language": "python",
     "metadata": {},
     "outputs": [
      {
       "output_type": "stream",
       "stream": "stdout",
       "text": [
        "2.0\n"
       ]
      }
     ],
     "prompt_number": 16
    },
    {
     "cell_type": "code",
     "collapsed": false,
     "input": [
      "print ndi.temporal('14 aout 1991', '08/15/1992', 'years')"
     ],
     "language": "python",
     "metadata": {},
     "outputs": [
      {
       "output_type": "stream",
       "stream": "stdout",
       "text": [
        "1.00479123888\n"
       ]
      }
     ],
     "prompt_number": 17
    },
    {
     "cell_type": "markdown",
     "metadata": {},
     "source": [
      "Dates are extracted from the text using french informations by default, but an english parser exists, and additional parsers may be built:"
     ]
    },
    {
     "cell_type": "code",
     "collapsed": false,
     "input": [
      "from dateutil import parser as dateparser\n",
      "print ndi.temporal('13 march', '13 may', 'months', parserinfo=dateparser.parserinfo)"
     ],
     "language": "python",
     "metadata": {},
     "outputs": [
      {
       "output_type": "stream",
       "stream": "stdout",
       "text": [
        "2.0\n"
       ]
      }
     ],
     "prompt_number": 18
    },
    {
     "cell_type": "markdown",
     "metadata": {},
     "source": [
      "<h4><a href=\"http://en.wikipedia.org/wiki/Geographical_distance\">Geographical distance </a></h4>\n",
      "\n",
      "The geographical distance between two points on Earth. Results are in meters, but the units can also be in 'km'.\n",
      "The planet radius can also be changed (if it may be useful...)."
     ]
    },
    {
     "cell_type": "code",
     "collapsed": false,
     "input": [
      "paris = (48.856578, 2.351828)     \n",
      "london = (51.504872, -0.07857)      \n",
      "print ndi.geographical(paris, london, in_radians=False)"
     ],
     "language": "python",
     "metadata": {},
     "outputs": [
      {
       "output_type": "stream",
       "stream": "stdout",
       "text": [
        "341564.159451\n"
       ]
      }
     ],
     "prompt_number": 19
    },
    {
     "cell_type": "code",
     "collapsed": false,
     "input": [
      "print ndi.geographical(paris, london, in_radians=False, units='km')"
     ],
     "language": "python",
     "metadata": {},
     "outputs": [
      {
       "output_type": "stream",
       "stream": "stdout",
       "text": [
        "341.564159451\n"
       ]
      }
     ],
     "prompt_number": 20
    },
    {
     "cell_type": "markdown",
     "metadata": {},
     "source": [
      "<h3>BaseProcessing - nazca.utils.distances</h3>\n",
      "\n",
      "The class BaseProcessing is used to hold all necessary information for a distance between records\n",
      "<ul>\n",
      "    <li>indice of the attribute to be used in the reference set records</li>\n",
      "    <li>indice of the attribute to be used in the target set records</li>\n",
      "    <li>the distance function to be used</li>\n",
      "    <li>the weight of the distance in the global distance matrix</li>\n",
      "    <li>the normalization of the matrix. If True, the distance between two points is arbitrary set to [0, 1], doing:\n",
      "        $$d = 1 - 1/(1 + d(x, y))$$\n",
      "    </li>\n",
      "</ul>"
     ]
    },
    {
     "cell_type": "markdown",
     "metadata": {},
     "source": [
      "The prototype of the BaseProcessing class is:\n",
      "\n",
      "     class BaseProcessing(object):\n",
      "\n",
      "        def distance(self, reference_record, target_record):         \n",
      "            \"\"\" Compute the distance between two records\"\"\"\n",
      "\n",
      "        def cdist(self, refset, targetset, ref_indexes=None, target_indexes=None):        \n",
      "            \"\"\" Compute the metric matrix, given two datasets and a metric\"\"\"\n",
      "\n",
      "        def pdist(self, dataset):         \n",
      "            \"\"\" Compute the upper triangular matrix in a way similar to scipy.spatial.metrical\"\"\"\n",
      "\n",
      "\n",
      "Nazca provides a processing class for all the distances previously described.\n"
     ]
    },
    {
     "cell_type": "markdown",
     "metadata": {},
     "source": [
      "Of course, it is possible to define your own processing, based on a specific distance:"
     ]
    },
    {
     "cell_type": "code",
     "collapsed": false,
     "input": [
      "def iamvictorhugo(stra, strb):\n",
      "    \"\"\"Return 0 if both strings include 'victor hugo', 0 otherwise \"\"\"\n",
      "    return 0 if ('victor hugo' in stra.lower() and 'victor hugo' in strb.lower()) else 1\n",
      "\n",
      "\n",
      "class VictorHugoProcessing(ndi.BaseProcessing):\n",
      "    \n",
      "          def __init__(self, ref_attr_index=None, target_attr_index=None,     \n",
      "                       weight=1, matrix_normalized=False):         \n",
      "            super(VictorHugoProcessing, self).__init__(ref_attr_index, target_attr_index,  \n",
      "                                                       iamvictorhugo, weight, matrix_normalized)\n",
      "\n",
      "processing = VictorHugoProcessing(1, 1)\n",
      "print processing.distance(('http://dbpedia.org/page/Victor_Hugo', 'Victor Hugo'),\n",
      "                          ('http://data.bnf.fr/11907966/victor_hugo/', 'Victor Hugo'))\n",
      "print processing.distance(('http://dbpedia.org/page/Victor_Hugo', 'Victor Hugo'),\n",
      "                          ('http://data.bnf.fr/11907966/victor_hugo/', 'Yu guo'))"
     ],
     "language": "python",
     "metadata": {},
     "outputs": [
      {
       "output_type": "stream",
       "stream": "stdout",
       "text": [
        "0\n",
        "1\n"
       ]
      }
     ],
     "prompt_number": 21
    }
   ],
   "metadata": {}
  }
 ]
}